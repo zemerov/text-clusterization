{
 "cells": [
  {
   "cell_type": "code",
   "execution_count": 10,
   "id": "7d932cdb",
   "metadata": {},
   "outputs": [],
   "source": [
    "import numpy as np\n",
    "import pandas as pd\n",
    "import matplotlib.pyplot as plt\n",
    "import seaborn as sns\n",
    "from IPython.display import Image\n",
    "\n",
    "import torch\n",
    "#from bertopic import BERTopic\n",
    "from transformers import AutoModelForSequenceClassification, AutoTokenizer\n",
    "from sentence_transformers import SentenceTransformer\n",
    "\n",
    "from datetime import datetime\n",
    "from tqdm.auto import tqdm\n",
    "import html\n",
    "\n",
    "sns.set(palette='summer')"
   ]
  },
  {
   "cell_type": "markdown",
   "id": "b05d170b",
   "metadata": {},
   "source": [
    "## Load data"
   ]
  },
  {
   "cell_type": "code",
   "execution_count": 6,
   "id": "c5302694",
   "metadata": {},
   "outputs": [],
   "source": [
    "data = pd.read_json('../data/geo-reviews-dataset-2023.jsonl', lines=True)"
   ]
  },
  {
   "cell_type": "code",
   "execution_count": 7,
   "id": "d43b9552",
   "metadata": {},
   "outputs": [
    {
     "data": {
      "text/html": [
       "<div>\n",
       "<style scoped>\n",
       "    .dataframe tbody tr th:only-of-type {\n",
       "        vertical-align: middle;\n",
       "    }\n",
       "\n",
       "    .dataframe tbody tr th {\n",
       "        vertical-align: top;\n",
       "    }\n",
       "\n",
       "    .dataframe thead th {\n",
       "        text-align: right;\n",
       "    }\n",
       "</style>\n",
       "<table border=\"1\" class=\"dataframe\">\n",
       "  <thead>\n",
       "    <tr style=\"text-align: right;\">\n",
       "      <th></th>\n",
       "      <th>address</th>\n",
       "      <th>name_ru</th>\n",
       "      <th>rating</th>\n",
       "      <th>rubrics</th>\n",
       "      <th>text</th>\n",
       "      <th>#_words</th>\n",
       "      <th>#_chars</th>\n",
       "    </tr>\n",
       "  </thead>\n",
       "  <tbody>\n",
       "    <tr>\n",
       "      <th>0</th>\n",
       "      <td>Республика Мордовия, Ковылкино, улица Ленина, 2А</td>\n",
       "      <td>СберБанк</td>\n",
       "      <td>5</td>\n",
       "      <td>Банк</td>\n",
       "      <td>Всё отлично, вежливый персонал, талонная систе...</td>\n",
       "      <td>34</td>\n",
       "      <td>235</td>\n",
       "    </tr>\n",
       "    <tr>\n",
       "      <th>1</th>\n",
       "      <td>Санкт-Петербург, улица Коллонтай, 12, корп. 1</td>\n",
       "      <td>Пятёрочка</td>\n",
       "      <td>5</td>\n",
       "      <td>Супермаркет</td>\n",
       "      <td>Чистота, без просроченных продуктов, персонал ...</td>\n",
       "      <td>8</td>\n",
       "      <td>80</td>\n",
       "    </tr>\n",
       "  </tbody>\n",
       "</table>\n",
       "</div>"
      ],
      "text/plain": [
       "                                            address    name_ru  rating  \\\n",
       "0  Республика Мордовия, Ковылкино, улица Ленина, 2А   СберБанк       5   \n",
       "1     Санкт-Петербург, улица Коллонтай, 12, корп. 1  Пятёрочка       5   \n",
       "\n",
       "       rubrics                                               text  #_words  \\\n",
       "0         Банк  Всё отлично, вежливый персонал, талонная систе...       34   \n",
       "1  Супермаркет  Чистота, без просроченных продуктов, персонал ...        8   \n",
       "\n",
       "   #_chars  \n",
       "0      235  \n",
       "1       80  "
      ]
     },
     "execution_count": 7,
     "metadata": {},
     "output_type": "execute_result"
    }
   ],
   "source": [
    "data.head(2)"
   ]
  },
  {
   "cell_type": "code",
   "execution_count": 8,
   "id": "6db80838",
   "metadata": {},
   "outputs": [
    {
     "data": {
      "text/plain": [
       "19137"
      ]
     },
     "execution_count": 8,
     "metadata": {},
     "output_type": "execute_result"
    }
   ],
   "source": [
    "len(data)"
   ]
  },
  {
   "cell_type": "code",
   "execution_count": 30,
   "id": "51a2b231",
   "metadata": {},
   "outputs": [
    {
     "data": {
      "text/plain": [
       "Пятёрочка           5946\n",
       "Магнит              2575\n",
       "Красное&Белое       1690\n",
       "Wildberries         1656\n",
       "Ozon                1469\n",
       "Вкусно — и точка    1165\n",
       "Перекрёсток         1141\n",
       "Fix Price           1089\n",
       "Пляж                1082\n",
       "СберБанк            1009\n",
       "Name: name_ru, dtype: int64"
      ]
     },
     "execution_count": 30,
     "metadata": {},
     "output_type": "execute_result"
    }
   ],
   "source": [
    "data[\"name_ru\"].value_counts()"
   ]
  },
  {
   "cell_type": "code",
   "execution_count": 31,
   "id": "40f2c24d",
   "metadata": {},
   "outputs": [],
   "source": [
    "data = data[data[\"name_ru\"] == \"Магнит\"]"
   ]
  },
  {
   "cell_type": "markdown",
   "id": "f4d37583",
   "metadata": {},
   "source": [
    "## Simple preprocessing"
   ]
  },
  {
   "cell_type": "code",
   "execution_count": 32,
   "id": "badc4575",
   "metadata": {},
   "outputs": [
    {
     "data": {
      "text/plain": [
       "2575"
      ]
     },
     "execution_count": 32,
     "metadata": {},
     "output_type": "execute_result"
    }
   ],
   "source": [
    "data = data[data['#_words'] > 4]\n",
    "data['text'] = data['text'].apply(\n",
    "    lambda x: \" \".join(x.lower().replace('ё', 'е').strip().split())\n",
    ")\n",
    "\n",
    "data['text'] = data['text'].apply(html.unescape)\n",
    "len(data)"
   ]
  },
  {
   "cell_type": "code",
   "execution_count": 33,
   "id": "3c760a9a",
   "metadata": {},
   "outputs": [
    {
     "data": {
      "text/plain": [
       "2575"
      ]
     },
     "execution_count": 33,
     "metadata": {},
     "output_type": "execute_result"
    }
   ],
   "source": [
    "data['text'].nunique()"
   ]
  },
  {
   "cell_type": "markdown",
   "id": "8e114ded",
   "metadata": {},
   "source": [
    "## Sentiment analysis\n",
    "\n",
    "https://huggingface.co/Tatyana/rubert-base-cased-sentiment-new"
   ]
  },
  {
   "cell_type": "code",
   "execution_count": 34,
   "id": "628eb725",
   "metadata": {},
   "outputs": [],
   "source": [
    "model = AutoModelForSequenceClassification.from_pretrained('Tatyana/rubert-base-cased-sentiment-new')\n",
    "tokenizer = AutoTokenizer.from_pretrained('Tatyana/rubert-base-cased-sentiment-new')"
   ]
  },
  {
   "cell_type": "code",
   "execution_count": 35,
   "id": "538a7c28",
   "metadata": {},
   "outputs": [
    {
     "data": {
      "application/vnd.jupyter.widget-view+json": {
       "model_id": "dea516e9c33d48f4956713d80f4c2da2",
       "version_major": 2,
       "version_minor": 0
      },
      "text/plain": [
       "  0%|          | 0/21 [00:00<?, ?it/s]"
      ]
     },
     "metadata": {},
     "output_type": "display_data"
    }
   ],
   "source": [
    "scores = []\n",
    "batch_size = 128\n",
    "device = 'cuda:5'\n",
    "\n",
    "model = model.to(device)\n",
    "model.eval()\n",
    "\n",
    "with torch.no_grad():\n",
    "    for i in tqdm(range(0, len(data), batch_size)):\n",
    "        batch = tokenizer(\n",
    "            data['text'].iloc[i:i+batch_size].tolist(), \n",
    "            truncation=True, padding='longest', return_tensors='pt', max_length=512)\n",
    "        batch = {k: v.to(device) for k, v in batch.items()}\n",
    "        \n",
    "        preds = model(**batch).logits.argmax(dim=1)\n",
    "        scores.append(preds)"
   ]
  },
  {
   "cell_type": "code",
   "execution_count": 36,
   "id": "79c167ca",
   "metadata": {},
   "outputs": [],
   "source": [
    "preds_mapping = {\n",
    "    0: \"NEUTRAL\",\n",
    "    1: \"POSITIVE\",\n",
    "    2: \"NEGATIVE\",\n",
    "}"
   ]
  },
  {
   "cell_type": "code",
   "execution_count": 37,
   "id": "51a0eb45",
   "metadata": {},
   "outputs": [],
   "source": [
    "data['sentiment'] = torch.cat(scores).tolist()\n",
    "data['sentiment'] = data['sentiment'].apply(lambda x: preds_mapping[x])"
   ]
  },
  {
   "cell_type": "code",
   "execution_count": 38,
   "id": "2b20f72a",
   "metadata": {},
   "outputs": [
    {
     "data": {
      "text/plain": [
       "POSITIVE    1944\n",
       "NEGATIVE     403\n",
       "NEUTRAL      228\n",
       "Name: sentiment, dtype: int64"
      ]
     },
     "execution_count": 38,
     "metadata": {},
     "output_type": "execute_result"
    }
   ],
   "source": [
    "data['sentiment'].value_counts()"
   ]
  },
  {
   "cell_type": "markdown",
   "id": "011f473d",
   "metadata": {},
   "source": [
    "## Clusterization"
   ]
  },
  {
   "cell_type": "code",
   "execution_count": 47,
   "id": "c9d82da7",
   "metadata": {},
   "outputs": [],
   "source": [
    "def get_clusters(sample_data: pd.DataFrame) -> pd.DataFrame:\n",
    "    bert = SentenceTransformer('distiluse-base-multilingual-cased-v1')\n",
    "    bert.eval()\n",
    "    topic_model = BERTopic(embedding_model=bert, verbose=True, min_topic_size=10, calculate_probabilities=True)\n",
    "    \n",
    "    embeddings = bert.encode(sample_data['text'].tolist(), show_progress_bar=True)\n",
    "    topics, probs = topic_model.fit_transform(sample_data['text'].tolist(), embeddings=embeddings)\n",
    "    \n",
    "    sample_data['topics'] = topics\n",
    "    #sample_data = sample_data.drop(columns=['simple_text', 'platform'])\n",
    "    \n",
    "    topic_info = topic_model.get_topic_info()[['Topic', 'Name']]\n",
    "    topic_info.columns = ['topics', 'keywords']\n",
    "    topic_info['keywords'] = topic_info['keywords'].apply(lambda x: \", \".join(x.split('_')[1:]))\n",
    "    \n",
    "    sample_data = sample_data.merge(topic_info, how='left', on='topics')\n",
    "    \n",
    "    return sample_data"
   ]
  },
  {
   "cell_type": "code",
   "execution_count": 48,
   "id": "fbb7cccd",
   "metadata": {},
   "outputs": [],
   "source": [
    "data = data.drop_duplicates(subset=[\"text\"])"
   ]
  },
  {
   "cell_type": "code",
   "execution_count": 49,
   "id": "74a0b453",
   "metadata": {},
   "outputs": [
    {
     "data": {
      "application/vnd.jupyter.widget-view+json": {
       "model_id": "513d0d8e76ae40208f9f8425c1fdecf8",
       "version_major": 2,
       "version_minor": 0
      },
      "text/plain": [
       "Batches:   0%|          | 0/81 [00:00<?, ?it/s]"
      ]
     },
     "metadata": {},
     "output_type": "display_data"
    },
    {
     "name": "stderr",
     "output_type": "stream",
     "text": [
      "2023-12-05 20:06:23,349 - BERTopic - Reduced dimensionality\n",
      "2023-12-05 20:06:23,554 - BERTopic - Clustered reduced embeddings\n"
     ]
    }
   ],
   "source": [
    "clusters = get_clusters(data)"
   ]
  },
  {
   "cell_type": "code",
   "execution_count": 50,
   "id": "9edda0e8",
   "metadata": {},
   "outputs": [
    {
     "data": {
      "text/plain": [
       "-1     907\n",
       " 0     490\n",
       " 1     178\n",
       " 2     136\n",
       " 3     132\n",
       " 4     109\n",
       " 5      89\n",
       " 6      86\n",
       " 7      62\n",
       " 8      47\n",
       " 9      43\n",
       " 10     42\n",
       " 11     42\n",
       " 12     37\n",
       " 13     35\n",
       " 14     26\n",
       " 15     22\n",
       " 16     20\n",
       " 17     18\n",
       " 18     17\n",
       " 19     14\n",
       " 20     13\n",
       " 21     10\n",
       "Name: topics, dtype: int64"
      ]
     },
     "execution_count": 50,
     "metadata": {},
     "output_type": "execute_result"
    }
   ],
   "source": [
    "clusters[\"topics\"].value_counts()"
   ]
  },
  {
   "cell_type": "code",
   "execution_count": 60,
   "id": "1884a606",
   "metadata": {},
   "outputs": [],
   "source": [
    "clusters.to_json(\"../data/magnit-clusters.jsonl\", lines=True, orient=\"records\", force_ascii=False)"
   ]
  },
  {
   "cell_type": "markdown",
   "id": "3649687a",
   "metadata": {},
   "source": [
    "## Cluster analysis"
   ]
  },
  {
   "cell_type": "code",
   "execution_count": 55,
   "id": "4df94d49",
   "metadata": {},
   "outputs": [],
   "source": [
    "#topic_model.get_topic_info()"
   ]
  },
  {
   "cell_type": "code",
   "execution_count": 56,
   "id": "7995f2c5",
   "metadata": {},
   "outputs": [],
   "source": [
    "#topic_model.get_document_info(sample['text'])"
   ]
  },
  {
   "cell_type": "code",
   "execution_count": 58,
   "id": "a61f4cd5",
   "metadata": {
    "scrolled": false
   },
   "outputs": [],
   "source": [
    "#topic_model.get_representative_docs()"
   ]
  },
  {
   "cell_type": "code",
   "execution_count": 186,
   "id": "a4b167e4",
   "metadata": {},
   "outputs": [],
   "source": [
    "#topic_model.merge_topics(docs, topics_to_merge)"
   ]
  },
  {
   "cell_type": "markdown",
   "id": "bc517a6e",
   "metadata": {},
   "source": [
    "## Cluster visualization"
   ]
  },
  {
   "cell_type": "code",
   "execution_count": 59,
   "id": "82b9e48d",
   "metadata": {},
   "outputs": [],
   "source": [
    "#topic_model.visualize_topics()"
   ]
  },
  {
   "cell_type": "code",
   "execution_count": 60,
   "id": "d1fe42a0",
   "metadata": {},
   "outputs": [],
   "source": [
    "#topic_model.visualize_documents(sample['text'].tolist())"
   ]
  },
  {
   "cell_type": "code",
   "execution_count": 216,
   "id": "21922c7b",
   "metadata": {},
   "outputs": [],
   "source": [
    "#hierarchical_topics = topic_model.hierarchical_topics(sample['text'].tolist())\n",
    "\n",
    "#topic_model.visualize_hierarchical_documents(sample['text'].tolist(), hierarchical_topics)"
   ]
  },
  {
   "cell_type": "code",
   "execution_count": 61,
   "id": "7b820616",
   "metadata": {},
   "outputs": [],
   "source": [
    "#topic_model.visualize_hierarchy()"
   ]
  },
  {
   "cell_type": "code",
   "execution_count": 62,
   "id": "f4392663",
   "metadata": {},
   "outputs": [],
   "source": [
    "#topic_model.visualize_barchart(topics=[0, 5])"
   ]
  },
  {
   "cell_type": "code",
   "execution_count": 63,
   "id": "01fbdce0",
   "metadata": {},
   "outputs": [],
   "source": [
    "#topic_model.visualize_heatmap()"
   ]
  },
  {
   "cell_type": "code",
   "execution_count": 197,
   "id": "0b2c7308",
   "metadata": {},
   "outputs": [],
   "source": [
    "#topic_model.visualize_term_rank()"
   ]
  },
  {
   "cell_type": "markdown",
   "id": "5569aa1f",
   "metadata": {},
   "source": [
    "#### Topics with lowest sentiment"
   ]
  },
  {
   "cell_type": "code",
   "execution_count": 38,
   "id": "f67b0ec5",
   "metadata": {},
   "outputs": [],
   "source": [
    "# bad_topics = ranking.sort_values(by='numeric_sentiment').iloc[:5].index\n",
    "\n",
    "# for topic in bad_topics:\n",
    "#     print('=' * 40)\n",
    "#     for text in sample[sample['topics'] == topic]['text']:\n",
    "#         print(text)"
   ]
  },
  {
   "cell_type": "markdown",
   "id": "39e986a2",
   "metadata": {},
   "source": [
    "#### Topics with highest sentiment"
   ]
  },
  {
   "cell_type": "code",
   "execution_count": 39,
   "id": "030f4d71",
   "metadata": {},
   "outputs": [],
   "source": [
    "# bad_topics = ranking.sort_values(by='numeric_sentiment', ascending=False).iloc[:5].index\n",
    "\n",
    "# for topic in bad_topics:\n",
    "#     print('=' * 40)\n",
    "#     for text in sample[sample['topics'] == topic]['text']:\n",
    "#         print(text)"
   ]
  },
  {
   "cell_type": "markdown",
   "id": "dd5f7a3c",
   "metadata": {},
   "source": [
    "#### Topics with longest answers"
   ]
  },
  {
   "cell_type": "code",
   "execution_count": 40,
   "id": "df41efa1",
   "metadata": {},
   "outputs": [],
   "source": [
    "# bad_topics = ranking.sort_values(by='num_words', ascending=False).iloc[:5].index\n",
    "\n",
    "# for topic in bad_topics:\n",
    "#     print('=' * 40, topic)\n",
    "#     for text in sample[sample['topics'] == topic]['text']:\n",
    "#         print(text)"
   ]
  },
  {
   "cell_type": "markdown",
   "id": "ed86ce03",
   "metadata": {},
   "source": [
    "### Summarization with ChatGPT\n",
    "\n",
    "Получение осмысленных коротких описаний для отдельных кластеров"
   ]
  },
  {
   "cell_type": "code",
   "execution_count": 2,
   "id": "cfd7d804",
   "metadata": {},
   "outputs": [],
   "source": [
    "import openai"
   ]
  },
  {
   "cell_type": "code",
   "execution_count": 3,
   "id": "f2d8f004",
   "metadata": {},
   "outputs": [],
   "source": [
    "openai.api_key = # api key"
   ]
  },
  {
   "cell_type": "code",
   "execution_count": 4,
   "id": "94cf526f",
   "metadata": {},
   "outputs": [],
   "source": [
    "clusters = pd.read_json(\"../data/magnit-clusters.jsonl\", lines=True)"
   ]
  },
  {
   "cell_type": "code",
   "execution_count": 6,
   "id": "847c95d2",
   "metadata": {},
   "outputs": [],
   "source": [
    "#clusters"
   ]
  },
  {
   "cell_type": "code",
   "execution_count": 75,
   "id": "55859eb5",
   "metadata": {},
   "outputs": [],
   "source": [
    "def get_topic_summary(df, topic_id, total_samples=7, model=\"gpt-3.5-turbo\") -> str:\n",
    "    keywords = df[df['topics'] == topic_id][\"keywords\"].iloc[0]\n",
    "    prompt = \"Какие выводы можно сделать по этиму кластеру отзывов пользователей?\\n\\n\"\n",
    "    prompt += f\"Ключевые слова для кластера: {keywords}\\n\\n\"\n",
    "\n",
    "    for i, x in enumerate(df[df['topics'] == topic_id]['text'].sample(total_samples)):\n",
    "        prompt += f\"{i+1}. {x.strip()}.\\n\"\n",
    "\n",
    "    prompt += \"В ответ напиши один ключевой вывод.\"\n",
    "    #print(prompt)\n",
    "    \n",
    "    response = openai.chat.completions.create(\n",
    "        model=\"gpt-3.5-turbo\",\n",
    "        messages=[\n",
    "            {\"role\": \"user\", \"content\": prompt},\n",
    "        ]\n",
    "    )\n",
    "    \n",
    "    answer = response.choices[0].message.content\n",
    "    \n",
    "    return answer"
   ]
  },
  {
   "cell_type": "code",
   "execution_count": 76,
   "id": "914befe1",
   "metadata": {},
   "outputs": [],
   "source": [
    "#clusters[\"keywords\"]"
   ]
  },
  {
   "cell_type": "code",
   "execution_count": 77,
   "id": "39812517",
   "metadata": {},
   "outputs": [
    {
     "data": {
      "application/vnd.jupyter.widget-view+json": {
       "model_id": "6e04873a2ea34b8294b78d78c9ec83ec",
       "version_major": 2,
       "version_minor": 0
      },
      "text/plain": [
       "  0%|          | 0/23 [00:00<?, ?it/s]"
      ]
     },
     "metadata": {},
     "output_type": "display_data"
    }
   ],
   "source": [
    "report = []\n",
    "sentiment_values = [\"POSITIVE\", \"NEGATIVE\", \"NEUTRAL\"]\n",
    "\n",
    "\n",
    "for topic_id in tqdm(sorted(clusters[\"topics\"].unique())):\n",
    "    topic_representation = get_topic_summary(clusters, topic_id)\n",
    "    \n",
    "    sub_df = clusters[clusters[\"topics\"] == topic_id]\n",
    "    \n",
    "    current_line = [topic_representation, len(sub_df)]\n",
    "    current_line.extend(\n",
    "        [(sub_df[\"sentiment\"] == sent).sum() / len(sub_df) for sent in sentiment_values]\n",
    "    )\n",
    "    \n",
    "    report.append(current_line)"
   ]
  },
  {
   "cell_type": "code",
   "execution_count": 78,
   "id": "74341940",
   "metadata": {},
   "outputs": [],
   "source": [
    "#topic_representation = get_topic_summary(clusters, 1)"
   ]
  },
  {
   "cell_type": "code",
   "execution_count": 79,
   "id": "02c906cf",
   "metadata": {},
   "outputs": [],
   "source": [
    "#topic_representation"
   ]
  },
  {
   "cell_type": "code",
   "execution_count": 80,
   "id": "8954ba85",
   "metadata": {},
   "outputs": [],
   "source": [
    "report = pd.DataFrame(report)"
   ]
  },
  {
   "cell_type": "code",
   "execution_count": 81,
   "id": "4963868f",
   "metadata": {},
   "outputs": [],
   "source": [
    "report.columns = [\"Topic\", \"Total\"] + sentiment_values"
   ]
  },
  {
   "cell_type": "code",
   "execution_count": 82,
   "id": "8a631d0e",
   "metadata": {},
   "outputs": [],
   "source": [
    "report[\"Topic\"] = report[\"Topic\"].apply(lambda x: x.lstrip(\"Тема: \").strip())"
   ]
  },
  {
   "cell_type": "code",
   "execution_count": 83,
   "id": "691ba0af",
   "metadata": {},
   "outputs": [],
   "source": [
    "for col in sentiment_values:\n",
    "    report[col] = report[col].apply(lambda x: round(x, 2))"
   ]
  },
  {
   "cell_type": "code",
   "execution_count": 85,
   "id": "47a7227e",
   "metadata": {},
   "outputs": [
    {
     "name": "stdout",
     "output_type": "stream",
     "text": [
      "Один из ключевых выводов можно сделать, что большинство пользователей оценивают магазин положительно, отмечая чистоту, доброжелательность персонала и хорошее размещение товаров. Однако, некоторые отзывы указывают на неудовлетворенность некачественными товарами, несоответствующими ценниками, грубостью кассиров и неудобным расположением магазина.\n",
      "----------\n",
      "Судя по данному кластеру отзывов пользователей, одним из ключевых выводов можно сделать то, что магнит имеет проблемы с качеством обслуживания и точностью расчетов, что вызывает недовольство у некоторых клиентов.\n",
      "----------\n",
      "Один ключевой вывод по данному кластеру отзывов пользователей может быть следующим: большинство пользователей положительно относится к доступности парковки, комфортной покупке в магазине и его удобному расположению.\n",
      "----------\n",
      "Кластер отзывов пользователей говорит о положительном отношении качества овощей и фруктов в магазине, а также обращает внимание на профессионализм и отзывчивость персонала.\n",
      "----------\n",
      "Магазин является хорошим, с чистым и аккуратным оформлением, привлекательными ценами и вежливыми продавцами, что привлекает посетителей.\n",
      "----------\n",
      "Один из ключевых выводов, который можно сделать по данному кластеру отзывов пользователей, заключается в том, что многие пользователи испытывают недовольство и раздражение из-за несоответствия ценников на товары и их фактической цены при оплате в кассе. Это приводит к ощущению обмана со стороны магазина и вызывает негативные эмоции у покупателей.\n",
      "----------\n",
      "Ключевой вывод: В данном кластере отзывов пользователей негативно оценивается обслуживание в магазине, особенно характеризуется грубостью и невнимательностью персонала.\n",
      "----------\n",
      "Один ключевой вывод, который можно сделать по этому кластеру отзывов пользователей, заключается в том, что магазин имеет удобное расположение и большой выбор товаров, а персонал является вежливым и внимательным.\n",
      "----------\n",
      "Персонал данного магазина является вежливым и профессиональным.\n",
      "----------\n",
      "Ключевой вывод:\n",
      "Данный кластер отзывов отражает положительные впечатления пользователей о магазине, где они отмечают доброжелательность и помощь персонала, а также чистоту и качество обслуживания.\n",
      "----------\n",
      "Один из ключевых выводов, который можно сделать по этому кластеру отзывов пользователей, заключается в том, что после ремонта магазин стал более удобным и чистым, однако есть также некоторые недостатки, такие как неработающие кассы и непостоянство в качестве товаров и обслуживании.\n",
      "----------\n",
      "Один ключевой вывод, который можно сделать по этому кластеру отзывов, заключается в том, что магазин имеет хороший и вежливый персонал, а также предлагает свежие продукты.\n",
      "----------\n",
      "Один из ключевых выводов по этому кластеру отзывов пользователей состоит в том, что магазины \"Магнит\" предлагают хороший выбор свежих фруктов и овощей, а также широкий ассортимент продуктов питания и товаров разного направления.\n",
      "----------\n",
      "Ключевой вывод: Этот кластер отзывов отражает различные мнения о магазине, но общим фактором является его небольшой размер, ограниченный ассортимент и проблемы с внутренним расположением продукции.\n",
      "----------\n",
      "Одним из ключевых выводов по данному кластеру отзывов пользователей можно сделать то, что девушки-персонал в магазине являются важным фактором положительного опыта покупателей. Они описываются как вежливые, внимательные, коммуникабельные, помогающие и подсказывающие. Это свидетельствует о том, что хороший сервис и отношение со стороны персонала играют значимую роль в удовлетворенности покупателей.\n",
      "----------\n",
      "Вывод: Кластер отзывов пользователей свидетельствует о высоком качестве обслуживания и приветливом персонале.\n",
      "----------\n",
      "Один из ключевых выводов по этому кластеру отзывов пользователей может быть следующим: Магазин, работающий круглосуточно, пользуется спросом, но имеет проблемы с обслуживанием и поддержанием чистоты.\n",
      "----------\n",
      "Один ключевой вывод из этого кластера отзывов пользователей может быть: магазины, получившие высокие оценки и положительные отзывы, обладают хорошим ассортиментом продукции, чистотой, приемлемыми ценами и вежливым персоналом. Однако, в некоторых случаях были выделены отдельные негативные моменты, такие как плохое хранение продуктов, высокие цены, отсутствие определенных товаров в праздничные дни и непрофессионализм отдельных сотрудников.\n",
      "----------\n",
      "Один ключевой вывод, который можно сделать по этому кластеру отзывов пользователей, заключается в том, что большинство клиентов высоко оценивают выбор товаров, вкус еды и дружелюбный персонал, однако некоторые из них указывают на проблемы с чистотой, расположением товаров и наличием очередей на кассе.\n",
      "----------\n",
      "Магазин предлагает широкий ассортимент товаров, включая свежий хлеб и домашнюю выпечку.\n",
      "----------\n",
      "Отзывы в этом кластере говорят о положительном впечатлении пользователей от магазина, особенно в отношении его свежих продуктов и чистоты.\n",
      "----------\n",
      "Один из ключевых выводов, который можно сделать по данному кластеру отзывов пользователей, – проблемы с качеством и хранением мясной продукции, особенно курицы. Многие пользователи жалуются на запах тухлятины из холодильника с курицей, протухшую продукцию с хорошим сроком годности и низкое качество филе курицы, содержащего ошметки и прожилки. Это может свидетельствовать о проблемах в системе хранения и контроля качества мяса в данном магазине.\n",
      "----------\n",
      "Один ключевой вывод, который можно сделать по этим клинстеру отзывов пользователей, это то, что расположение магазина и состояние дороги являются одним из основных факторов, определяющих удовлетворенность покупателей.\n",
      "----------\n"
     ]
    }
   ],
   "source": [
    "for topic in report[\"Topic\"]:\n",
    "    print(topic)\n",
    "    print('-' * 10)"
   ]
  },
  {
   "cell_type": "code",
   "execution_count": 28,
   "id": "4d56b5d5",
   "metadata": {},
   "outputs": [],
   "source": [
    "report.to_csv(\"../data/magnit_report.csv\", index=False)"
   ]
  },
  {
   "cell_type": "code",
   "execution_count": 30,
   "id": "e8acf457",
   "metadata": {},
   "outputs": [
    {
     "data": {
      "text/html": [
       "<div>\n",
       "<style scoped>\n",
       "    .dataframe tbody tr th:only-of-type {\n",
       "        vertical-align: middle;\n",
       "    }\n",
       "\n",
       "    .dataframe tbody tr th {\n",
       "        vertical-align: top;\n",
       "    }\n",
       "\n",
       "    .dataframe thead th {\n",
       "        text-align: right;\n",
       "    }\n",
       "</style>\n",
       "<table border=\"1\" class=\"dataframe\">\n",
       "  <thead>\n",
       "    <tr style=\"text-align: right;\">\n",
       "      <th></th>\n",
       "      <th>Topic</th>\n",
       "      <th>Total</th>\n",
       "      <th>POSITIVE</th>\n",
       "      <th>NEGATIVE</th>\n",
       "      <th>NEUTRAL</th>\n",
       "    </tr>\n",
       "  </thead>\n",
       "  <tbody>\n",
       "    <tr>\n",
       "      <th>0</th>\n",
       "      <td>Отзывы о магазине и его персонале</td>\n",
       "      <td>907</td>\n",
       "      <td>0.77</td>\n",
       "      <td>0.16</td>\n",
       "      <td>0.08</td>\n",
       "    </tr>\n",
       "    <tr>\n",
       "      <th>1</th>\n",
       "      <td>Отзывы о магазине \"Магнит\"</td>\n",
       "      <td>490</td>\n",
       "      <td>0.76</td>\n",
       "      <td>0.12</td>\n",
       "      <td>0.11</td>\n",
       "    </tr>\n",
       "    <tr>\n",
       "      <th>2</th>\n",
       "      <td>Положительные отзывы о магазине и его преимуще...</td>\n",
       "      <td>178</td>\n",
       "      <td>0.93</td>\n",
       "      <td>0.02</td>\n",
       "      <td>0.05</td>\n",
       "    </tr>\n",
       "    <tr>\n",
       "      <th>3</th>\n",
       "      <td>Отзывы о магазине и его продуктах.</td>\n",
       "      <td>136</td>\n",
       "      <td>0.74</td>\n",
       "      <td>0.15</td>\n",
       "      <td>0.11</td>\n",
       "    </tr>\n",
       "    <tr>\n",
       "      <th>4</th>\n",
       "      <td>Отзывы о магазине средней ценовой политики с п...</td>\n",
       "      <td>132</td>\n",
       "      <td>0.85</td>\n",
       "      <td>0.05</td>\n",
       "      <td>0.10</td>\n",
       "    </tr>\n",
       "    <tr>\n",
       "      <th>5</th>\n",
       "      <td>Негативный опыт посещения магазина</td>\n",
       "      <td>109</td>\n",
       "      <td>0.34</td>\n",
       "      <td>0.52</td>\n",
       "      <td>0.14</td>\n",
       "    </tr>\n",
       "    <tr>\n",
       "      <th>6</th>\n",
       "      <td>Негативный опыт обслуживания в магазине</td>\n",
       "      <td>89</td>\n",
       "      <td>0.15</td>\n",
       "      <td>0.80</td>\n",
       "      <td>0.06</td>\n",
       "    </tr>\n",
       "    <tr>\n",
       "      <th>7</th>\n",
       "      <td>Положительный опыт покупок в магазине</td>\n",
       "      <td>86</td>\n",
       "      <td>0.91</td>\n",
       "      <td>0.01</td>\n",
       "      <td>0.08</td>\n",
       "    </tr>\n",
       "    <tr>\n",
       "      <th>8</th>\n",
       "      <td>Положительные отзывы о магазине и персонале</td>\n",
       "      <td>62</td>\n",
       "      <td>0.94</td>\n",
       "      <td>0.03</td>\n",
       "      <td>0.03</td>\n",
       "    </tr>\n",
       "    <tr>\n",
       "      <th>9</th>\n",
       "      <td>Приятный магазин с хорошим обслуживанием и асс...</td>\n",
       "      <td>47</td>\n",
       "      <td>1.00</td>\n",
       "      <td>0.00</td>\n",
       "      <td>0.00</td>\n",
       "    </tr>\n",
       "    <tr>\n",
       "      <th>10</th>\n",
       "      <td>Общий отзыв о магазине и его изменениях</td>\n",
       "      <td>43</td>\n",
       "      <td>0.77</td>\n",
       "      <td>0.16</td>\n",
       "      <td>0.07</td>\n",
       "    </tr>\n",
       "    <tr>\n",
       "      <th>11</th>\n",
       "      <td>Позитивные отзывы о хорошем магазине с чистым ...</td>\n",
       "      <td>42</td>\n",
       "      <td>0.95</td>\n",
       "      <td>0.02</td>\n",
       "      <td>0.02</td>\n",
       "    </tr>\n",
       "    <tr>\n",
       "      <th>12</th>\n",
       "      <td>Отзывы о магазинах сети \"Магнит\"</td>\n",
       "      <td>42</td>\n",
       "      <td>0.83</td>\n",
       "      <td>0.07</td>\n",
       "      <td>0.10</td>\n",
       "    </tr>\n",
       "    <tr>\n",
       "      <th>13</th>\n",
       "      <td>Отзывы о маленьком деревенском магазине</td>\n",
       "      <td>37</td>\n",
       "      <td>0.59</td>\n",
       "      <td>0.11</td>\n",
       "      <td>0.30</td>\n",
       "    </tr>\n",
       "    <tr>\n",
       "      <th>14</th>\n",
       "      <td>Положительные отзывы о магазине и его персонале</td>\n",
       "      <td>35</td>\n",
       "      <td>1.00</td>\n",
       "      <td>0.00</td>\n",
       "      <td>0.00</td>\n",
       "    </tr>\n",
       "    <tr>\n",
       "      <th>15</th>\n",
       "      <td>Общее впечатление о магазине и его персонале.</td>\n",
       "      <td>26</td>\n",
       "      <td>1.00</td>\n",
       "      <td>0.00</td>\n",
       "      <td>0.00</td>\n",
       "    </tr>\n",
       "    <tr>\n",
       "      <th>16</th>\n",
       "      <td>Работа магазина и удобство для покупателей</td>\n",
       "      <td>22</td>\n",
       "      <td>0.64</td>\n",
       "      <td>0.23</td>\n",
       "      <td>0.14</td>\n",
       "    </tr>\n",
       "    <tr>\n",
       "      <th>17</th>\n",
       "      <td>Отзывы о магазине и его ассортименте, обслужив...</td>\n",
       "      <td>20</td>\n",
       "      <td>0.80</td>\n",
       "      <td>0.10</td>\n",
       "      <td>0.10</td>\n",
       "    </tr>\n",
       "    <tr>\n",
       "      <th>18</th>\n",
       "      <td>Уровень обслуживания, выбор товаров и состояни...</td>\n",
       "      <td>18</td>\n",
       "      <td>0.72</td>\n",
       "      <td>0.11</td>\n",
       "      <td>0.17</td>\n",
       "    </tr>\n",
       "    <tr>\n",
       "      <th>19</th>\n",
       "      <td>Отзывы о магазине</td>\n",
       "      <td>17</td>\n",
       "      <td>0.82</td>\n",
       "      <td>0.06</td>\n",
       "      <td>0.12</td>\n",
       "    </tr>\n",
       "    <tr>\n",
       "      <th>20</th>\n",
       "      <td>Отзывы о качестве и разнообразии продуктов в м...</td>\n",
       "      <td>14</td>\n",
       "      <td>1.00</td>\n",
       "      <td>0.00</td>\n",
       "      <td>0.00</td>\n",
       "    </tr>\n",
       "    <tr>\n",
       "      <th>21</th>\n",
       "      <td>Негативный опыт покупок в магазине с курицей.</td>\n",
       "      <td>13</td>\n",
       "      <td>0.08</td>\n",
       "      <td>0.62</td>\n",
       "      <td>0.31</td>\n",
       "    </tr>\n",
       "    <tr>\n",
       "      <th>22</th>\n",
       "      <td>Расположение и удобство магазина</td>\n",
       "      <td>10</td>\n",
       "      <td>0.30</td>\n",
       "      <td>0.40</td>\n",
       "      <td>0.30</td>\n",
       "    </tr>\n",
       "  </tbody>\n",
       "</table>\n",
       "</div>"
      ],
      "text/plain": [
       "                                                Topic  Total  POSITIVE  \\\n",
       "0                   Отзывы о магазине и его персонале    907      0.77   \n",
       "1                          Отзывы о магазине \"Магнит\"    490      0.76   \n",
       "2   Положительные отзывы о магазине и его преимуще...    178      0.93   \n",
       "3                  Отзывы о магазине и его продуктах.    136      0.74   \n",
       "4   Отзывы о магазине средней ценовой политики с п...    132      0.85   \n",
       "5                  Негативный опыт посещения магазина    109      0.34   \n",
       "6             Негативный опыт обслуживания в магазине     89      0.15   \n",
       "7               Положительный опыт покупок в магазине     86      0.91   \n",
       "8         Положительные отзывы о магазине и персонале     62      0.94   \n",
       "9   Приятный магазин с хорошим обслуживанием и асс...     47      1.00   \n",
       "10            Общий отзыв о магазине и его изменениях     43      0.77   \n",
       "11  Позитивные отзывы о хорошем магазине с чистым ...     42      0.95   \n",
       "12                   Отзывы о магазинах сети \"Магнит\"     42      0.83   \n",
       "13            Отзывы о маленьком деревенском магазине     37      0.59   \n",
       "14    Положительные отзывы о магазине и его персонале     35      1.00   \n",
       "15      Общее впечатление о магазине и его персонале.     26      1.00   \n",
       "16         Работа магазина и удобство для покупателей     22      0.64   \n",
       "17  Отзывы о магазине и его ассортименте, обслужив...     20      0.80   \n",
       "18  Уровень обслуживания, выбор товаров и состояни...     18      0.72   \n",
       "19                                  Отзывы о магазине     17      0.82   \n",
       "20  Отзывы о качестве и разнообразии продуктов в м...     14      1.00   \n",
       "21      Негативный опыт покупок в магазине с курицей.     13      0.08   \n",
       "22                   Расположение и удобство магазина     10      0.30   \n",
       "\n",
       "    NEGATIVE  NEUTRAL  \n",
       "0       0.16     0.08  \n",
       "1       0.12     0.11  \n",
       "2       0.02     0.05  \n",
       "3       0.15     0.11  \n",
       "4       0.05     0.10  \n",
       "5       0.52     0.14  \n",
       "6       0.80     0.06  \n",
       "7       0.01     0.08  \n",
       "8       0.03     0.03  \n",
       "9       0.00     0.00  \n",
       "10      0.16     0.07  \n",
       "11      0.02     0.02  \n",
       "12      0.07     0.10  \n",
       "13      0.11     0.30  \n",
       "14      0.00     0.00  \n",
       "15      0.00     0.00  \n",
       "16      0.23     0.14  \n",
       "17      0.10     0.10  \n",
       "18      0.11     0.17  \n",
       "19      0.06     0.12  \n",
       "20      0.00     0.00  \n",
       "21      0.62     0.31  \n",
       "22      0.40     0.30  "
      ]
     },
     "execution_count": 30,
     "metadata": {},
     "output_type": "execute_result"
    }
   ],
   "source": [
    "report"
   ]
  },
  {
   "cell_type": "code",
   "execution_count": 34,
   "id": "a2031668",
   "metadata": {},
   "outputs": [],
   "source": [
    "clusters.sort_values(by=\"topics\").to_csv(\"../data/magnit-clusters.csv\", index=False)"
   ]
  },
  {
   "cell_type": "code",
   "execution_count": null,
   "id": "14df0ff9",
   "metadata": {},
   "outputs": [],
   "source": []
  }
 ],
 "metadata": {
  "kernelspec": {
   "display_name": "Python 3 (ipykernel)",
   "language": "python",
   "name": "python3"
  },
  "language_info": {
   "codemirror_mode": {
    "name": "ipython",
    "version": 3
   },
   "file_extension": ".py",
   "mimetype": "text/x-python",
   "name": "python",
   "nbconvert_exporter": "python",
   "pygments_lexer": "ipython3",
   "version": "3.9.6"
  }
 },
 "nbformat": 4,
 "nbformat_minor": 5
}
